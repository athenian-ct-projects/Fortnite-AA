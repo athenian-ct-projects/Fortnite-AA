{
  "nbformat": 4,
  "nbformat_minor": 0,
  "metadata": {
    "colab": {
      "name": "Adrian",
      "provenance": [],
      "collapsed_sections": [],
      "include_colab_link": true
    },
    "kernelspec": {
      "name": "python3",
      "display_name": "Python 3"
    }
  },
  "cells": [
    {
      "cell_type": "markdown",
      "metadata": {
        "id": "view-in-github",
        "colab_type": "text"
      },
      "source": [
        "<a href=\"https://colab.research.google.com/github/athenian-ct-projects/Fortnite-AA/blob/master/Adrian.ipynb\" target=\"_parent\"><img src=\"https://colab.research.google.com/assets/colab-badge.svg\" alt=\"Open In Colab\"/></a>"
      ]
    },
    {
      "cell_type": "code",
      "metadata": {
        "id": "bzvzuCBV3Fqg",
        "colab_type": "code",
        "colab": {}
      },
      "source": [
        "#FORTNITE\n",
        "#FORTNITE\n",
        "#FORTNITE\n",
        "#FORTNITE\n"
      ],
      "execution_count": 0,
      "outputs": []
    },
    {
      "cell_type": "code",
      "metadata": {
        "id": "nAcuYXnd3i8O",
        "colab_type": "code",
        "outputId": "fdc1c221-d6b2-4af0-8d57-67e5e78b7aa1",
        "colab": {
          "base_uri": "https://localhost:8080/",
          "height": 34
        }
      },
      "source": [
        "print(\"Welcome to Fortnite Battle Royale *Fortnite music theme now cues*\")"
      ],
      "execution_count": 0,
      "outputs": [
        {
          "output_type": "stream",
          "text": [
            "Welcome to Fortnite Battle Royale *Fortnite music theme now cues*\n"
          ],
          "name": "stdout"
        }
      ]
    },
    {
      "cell_type": "code",
      "metadata": {
        "id": "Fo7G37lt4DXv",
        "colab_type": "code",
        "outputId": "080adea3-e8d9-4732-e30e-295c97b74f55",
        "colab": {
          "base_uri": "https://localhost:8080/",
          "height": 156
        }
      },
      "source": [
        "print(\"which fortnite skin to you desire to be? \")\n",
        "costume=input(\"Brite Bomber, Skull Trooper, Renegade Raider, Dark Knight, Twitch Prime Skin, or Default? \")\n",
        "print(\"What pickaxe do you fancy\")\n",
        "pickaxe=input(\"shovel, omega, pick squeak, default, or daddy whacker? \")\n",
        "print(\"Which back bling do you crave? \")\n",
        "back_bling=input(\"Royale Shield, Rust Bucket, Black Shield, Red Shield, or an Alpine backpack? \")\n",
        "print(\"Your selection \" + costume + \" \" + pickaxe + \" \"+ back_bling + \" is ready for use ;)\")\n",
        "print(\"Click next block to drop into the Fortnite Map\")"
      ],
      "execution_count": 0,
      "outputs": [
        {
          "output_type": "stream",
          "text": [
            "which fortnite skin to you desire to be? \n",
            "Brite Bomber, Skull Trooper, Renegade Raider, Dark Knight, Twitch Prime Skin, or Default? \n",
            "What pickaxe do you fancy\n",
            "shovel, omega, pick squeak, default, or daddy whacker? \n",
            "Which back bling do you crave? \n",
            "Royale Shield, Rust Bucket, Black Shield, Red Shield, or an Alpine backpack? \n",
            "Your selection    is ready for use ;)\n",
            "Click next block to drop into the Fortnite Map\n"
          ],
          "name": "stdout"
        }
      ]
    },
    {
      "cell_type": "code",
      "metadata": {
        "id": "UFSaZHvk57TO",
        "colab_type": "code",
        "outputId": "2ffbf686-0a53-4f68-ae26-c6651c44ad0e",
        "colab": {
          "base_uri": "https://localhost:8080/",
          "height": 102
        }
      },
      "source": [
        "import random\n",
        "print(costume + \" where do you want to drop\")\n",
        "location1=input(\"Anarchy Acres, Greasy Grove, Pleasant Park, Lonely Lodge, Retail Row, Salty Springs, Moisty Mire, Fatal Fields, Dusty Depot\")\n",
        "droppers=random.randint(0,20)\n",
        "print(location1 + \" is a nice choice \" + str(droppers) + \" people have landed there\")\n",
        "print(\"Which weapon do you want?\" )\n",
        "weapon1=input(\"legendary scar, grey tactical submachine gun, the papi artale, or the rocket propeller grenade? \")\n",
        "\n",
        "def fighting_time ():\n",
        "  print(\"You have encountered an enemy. What do you do? \")\n",
        "  enemy1=input(\"Team, dance, shoot at, or build? \")\n",
        "\n",
        "  while enemy1 != \"team\" and enemy1 != \"dance\" and enemy1 != \"shoot at\" and  enemy1 != \"build\":\n",
        "    enemy1=input(\"Team, dance, shoot at, or build? \")\n",
        "\n",
        "  if enemy1 == 'team':\n",
        "    print(\"epic games has banned you. NEVER TEAM AGAIN CHEATER\")\n",
        "    quit()\n",
        "  if enemy1 == 'dance':\n",
        "    print(\"enemy shoots at you and your dead. NEXT TIME WHEN YOU SEE AN EMEMY DONT BE DUMB\")\n",
        "    quit()\n",
        "  if enemy1 == 'shoot at':\n",
        "    print(\"good job you have eleminated your enemy with your \" + weapon1)\n",
        "  if enemy1 == 'build':\n",
        "    print(\"good job. You have blocked their shots and have allowed time to escape from the enemy\")\n",
        "  if enemy1 == 'build' or 'shoot at':\n",
        "    print(\"congratulations. You have beaten your first enemy now you may continue your match. \")"
      ],
      "execution_count": 0,
      "outputs": [
        {
          "output_type": "stream",
          "text": [
            "Dark Knight where do you want to drop\n",
            "Anarchy Acres, Greasy Grove, Pleasant Park, Lonely Lodge, Retail Row, Salty Springs, Moisty Mire, Fatal Fields, Dusty DepotAnarchy Acres\n",
            "Anarchy Acres is a nice choice 14 people have landed there\n",
            "Which weapon do you want?\n",
            "legendary scar, grey tactical submachine gun, the papi artale, or the rocket propeller grenade? legendary scar\n"
          ],
          "name": "stdout"
        }
      ]
    },
    {
      "cell_type": "code",
      "metadata": {
        "id": "TDWAv0qWX2yR",
        "colab_type": "code",
        "outputId": "5a29c7e0-c257-4bb9-ad54-5e4a3e57c258",
        "colab": {
          "base_uri": "https://localhost:8080/",
          "height": 85
        }
      },
      "source": [
        "import random\n",
        "print(\"You are currently still in \" + location1  + \" where do you desire to go next?\")\n",
        "place1=input(\"Where do you desire to go to next? Retail Row, Dusty Depot, or Anarchy Acres?\")\n",
        "people_in_game1= random.randint(0,10)\n",
        "choice1=input(\"there are currently \" + str(people_in_game1)+ \" people there. Do you still desire to go?\")\n",
        "if choice1 == \"yes\":\n",
        "  location2=print(\"You will be transported on the next block\")\n",
        "if choice1 == \"no\":\n",
        "  place2=input(\"Where do you desire to go to next? Retail Row, Dusty Depot, or Anarchy Acres?\")\n",
        "  people_in_game2= random.randint(0,10)\n",
        "  choice2=input(\"There are currently \" + str(people_in_game2)+ \" people there. Do you still desire to go?\")\n",
        "if choice2 == \"yes\":\n",
        "  location2=print(\"You will be transported on the next block\")\n",
        "if choice2 == \"no\":\n",
        "  print(\"Too bad your going there whether you like it or not. Click the nect block to continue.\")\n"
      ],
      "execution_count": 0,
      "outputs": [
        {
          "output_type": "stream",
          "text": [
            "You are currently still in Anarchy Acres where do you desire to go next?\n",
            "Where do you desire to go to next? Retail Row, Dusty Depot, or Anarchy Acres?Dusty \n",
            "there are currently 9 people there. Do you still desire to go?yeah\n",
            "You will be transported on the next block\n"
          ],
          "name": "stdout"
        }
      ]
    },
    {
      "cell_type": "code",
      "metadata": {
        "id": "-MTl7CF6_85B",
        "colab_type": "code",
        "outputId": "f5ee9979-0d33-4931-a911-c188d0a2e051",
        "colab": {
          "base_uri": "https://localhost:8080/",
          "height": 136
        }
      },
      "source": [
        "import random\n",
        "\n",
        "def hunterer_gatherer (): \n",
        "  material1 = random.randint(150,500)\n",
        "  choice3=input(\"Which matertial do you want? Wood, Brick, or Steel? \")\n",
        "  if choice3 == \"wood\":\n",
        "    for x in range(5):\n",
        "      print(\"chop\")\n",
        "    print(\"you have gathered \" + str(material1) + \" wood\")\n",
        "  if choice3 == \"brick\":\n",
        "    for x in range(5):\n",
        "      print(\"plip plop\")\n",
        "    print(\"you have gathered \" + str(material1) + \" brick\")\n",
        "  if choice3 == \"steel\":\n",
        "    for x in range(5):\n",
        "      print(\"ding\")\n",
        "    print(\"you have gathered \" + str(material1) + \" steel\")\n",
        "\n",
        "hunterer_gatherer()"
      ],
      "execution_count": 0,
      "outputs": [
        {
          "output_type": "stream",
          "text": [
            "Which matertial do you want? Wood, Brick, or Steel? brick\n",
            "plip plop\n",
            "plip plop\n",
            "plip plop\n",
            "plip plop\n",
            "plip plop\n",
            "you have gathered 484 brick\n"
          ],
          "name": "stdout"
        }
      ]
    },
    {
      "cell_type": "code",
      "metadata": {
        "id": "9f8yV0tMVswP",
        "colab_type": "code",
        "outputId": "95dbbe69-38e1-4c49-9f69-7513d6b564ec",
        "colab": {
          "base_uri": "https://localhost:8080/",
          "height": 249
        }
      },
      "source": [
        "import random\n",
        "people_in_game3= random.randint (3,10)\n",
        "print(\"There are now \" + str(people_in_game3) + \" left in the game.\")\n",
        "print(\"You are now in \" + place1 or place2 + \"What would you like to do now? \")\n",
        "choice4=input(\"Would you like to gather more materials, or fight? \")\n",
        "if choice4 == \"materials\":\n",
        "  hunterer_gatherer()\n",
        "if choice4 == \"fight\":\n",
        "  fighting_time()\n"
      ],
      "execution_count": 0,
      "outputs": [
        {
          "output_type": "stream",
          "text": [
            "There are now 6 left in the game.\n"
          ],
          "name": "stdout"
        },
        {
          "output_type": "error",
          "ename": "NameError",
          "evalue": "ignored",
          "traceback": [
            "\u001b[0;31m---------------------------------------------------------------------------\u001b[0m",
            "\u001b[0;31mNameError\u001b[0m                                 Traceback (most recent call last)",
            "\u001b[0;32m<ipython-input-3-8d075f5cb35b>\u001b[0m in \u001b[0;36m<module>\u001b[0;34m()\u001b[0m\n\u001b[1;32m      2\u001b[0m \u001b[0mpeople_in_game3\u001b[0m\u001b[0;34m=\u001b[0m \u001b[0mrandom\u001b[0m\u001b[0;34m.\u001b[0m\u001b[0mrandint\u001b[0m \u001b[0;34m(\u001b[0m\u001b[0;36m3\u001b[0m\u001b[0;34m,\u001b[0m\u001b[0;36m10\u001b[0m\u001b[0;34m)\u001b[0m\u001b[0;34m\u001b[0m\u001b[0;34m\u001b[0m\u001b[0m\n\u001b[1;32m      3\u001b[0m \u001b[0mprint\u001b[0m\u001b[0;34m(\u001b[0m\u001b[0;34m\"There are now \"\u001b[0m \u001b[0;34m+\u001b[0m \u001b[0mstr\u001b[0m\u001b[0;34m(\u001b[0m\u001b[0mpeople_in_game3\u001b[0m\u001b[0;34m)\u001b[0m \u001b[0;34m+\u001b[0m \u001b[0;34m\" left in the game.\"\u001b[0m\u001b[0;34m)\u001b[0m\u001b[0;34m\u001b[0m\u001b[0;34m\u001b[0m\u001b[0m\n\u001b[0;32m----> 4\u001b[0;31m \u001b[0mprint\u001b[0m\u001b[0;34m(\u001b[0m\u001b[0;34m\"You are now in \"\u001b[0m \u001b[0;34m+\u001b[0m \u001b[0mplace1\u001b[0m \u001b[0;32mor\u001b[0m \u001b[0mplace2\u001b[0m \u001b[0;34m+\u001b[0m \u001b[0;34m\"What would you like to do now? \"\u001b[0m\u001b[0;34m)\u001b[0m\u001b[0;34m\u001b[0m\u001b[0;34m\u001b[0m\u001b[0m\n\u001b[0m\u001b[1;32m      5\u001b[0m \u001b[0mchoice4\u001b[0m\u001b[0;34m=\u001b[0m\u001b[0minput\u001b[0m\u001b[0;34m(\u001b[0m\u001b[0;34m\"Would you like to gather more materials, or fight? \"\u001b[0m\u001b[0;34m)\u001b[0m\u001b[0;34m\u001b[0m\u001b[0;34m\u001b[0m\u001b[0m\n\u001b[1;32m      6\u001b[0m \u001b[0;32mif\u001b[0m \u001b[0mchoice4\u001b[0m \u001b[0;34m==\u001b[0m \u001b[0;34m\"materials\"\u001b[0m\u001b[0;34m:\u001b[0m\u001b[0;34m\u001b[0m\u001b[0;34m\u001b[0m\u001b[0m\n",
            "\u001b[0;31mNameError\u001b[0m: name 'place1' is not defined"
          ]
        }
      ]
    },
    {
      "cell_type": "code",
      "metadata": {
        "id": "DPwkKWYTA4nD",
        "colab_type": "code",
        "outputId": "aeba4f0b-fe18-4a54-8330-39dd487ea986",
        "colab": {
          "base_uri": "https://localhost:8080/",
          "height": 68
        }
      },
      "source": [
        "print(\"You are in the endgame. It is a 1v1.\")\n",
        "guerr_bears=(random.choice([\"shooting you\",\"building\"]))\n",
        "choice5=input(\"Your opponent is \" + guerr_bears + \" . What do you desire to do? Build, or shoot?\")\n",
        "if choice5 == \"build\":\n",
        "  print(\"Nice. You are now well protected. You have earned yourself a VICTORY ROYALE!!!!!!\")\n",
        "if choice5 == \"shoot\":\n",
        "  print(\"Your shoots are useless and they have obliterated you. Better luck next time.\")\n",
        "  quit()\n"
      ],
      "execution_count": 0,
      "outputs": [
        {
          "output_type": "stream",
          "text": [
            "You are in the endgame. It is a 1v1.\n",
            "Your opponent is shooting you . What do you desire to do? Build, or shoot?build\n",
            "Nice. You are now well protected. You have earned yourself a VICTORY ROYALE!!!!!!\n"
          ],
          "name": "stdout"
        }
      ]
    }
  ]
}